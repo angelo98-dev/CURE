{
  "cells": [
    {
      "cell_type": "markdown",
      "metadata": {
        "id": "view-in-github",
        "colab_type": "text"
      },
      "source": [
        "<a href=\"https://colab.research.google.com/github/angelo98-dev/CURE/blob/main/Cure.ipynb\" target=\"_parent\"><img src=\"https://colab.research.google.com/assets/colab-badge.svg\" alt=\"Open In Colab\"/></a>"
      ]
    },
    {
      "cell_type": "code",
      "execution_count": null,
      "metadata": {
        "colab": {
          "base_uri": "https://localhost:8080/"
        },
        "id": "KVHKJP8WQD1o",
        "outputId": "900e6603-017b-4d69-bc3d-3329d5927439",
        "collapsed": true
      },
      "outputs": [
        {
          "output_type": "stream",
          "name": "stdout",
          "text": [
            "Collecting pyclustering\n",
            "  Downloading pyclustering-0.10.1.2.tar.gz (2.6 MB)\n",
            "\u001b[K     |████████████████████████████████| 2.6 MB 8.3 MB/s \n",
            "\u001b[?25hRequirement already satisfied: scipy>=1.1.0 in /usr/local/lib/python3.7/dist-packages (from pyclustering) (1.4.1)\n",
            "Requirement already satisfied: matplotlib>=3.0.0 in /usr/local/lib/python3.7/dist-packages (from pyclustering) (3.2.2)\n",
            "Requirement already satisfied: numpy>=1.15.2 in /usr/local/lib/python3.7/dist-packages (from pyclustering) (1.19.5)\n",
            "Requirement already satisfied: Pillow>=5.2.0 in /usr/local/lib/python3.7/dist-packages (from pyclustering) (7.1.2)\n",
            "Requirement already satisfied: python-dateutil>=2.1 in /usr/local/lib/python3.7/dist-packages (from matplotlib>=3.0.0->pyclustering) (2.8.2)\n",
            "Requirement already satisfied: cycler>=0.10 in /usr/local/lib/python3.7/dist-packages (from matplotlib>=3.0.0->pyclustering) (0.11.0)\n",
            "Requirement already satisfied: kiwisolver>=1.0.1 in /usr/local/lib/python3.7/dist-packages (from matplotlib>=3.0.0->pyclustering) (1.3.2)\n",
            "Requirement already satisfied: pyparsing!=2.0.4,!=2.1.2,!=2.1.6,>=2.0.1 in /usr/local/lib/python3.7/dist-packages (from matplotlib>=3.0.0->pyclustering) (3.0.6)\n",
            "Requirement already satisfied: six>=1.5 in /usr/local/lib/python3.7/dist-packages (from python-dateutil>=2.1->matplotlib>=3.0.0->pyclustering) (1.15.0)\n",
            "Building wheels for collected packages: pyclustering\n",
            "  Building wheel for pyclustering (setup.py) ... \u001b[?25l\u001b[?25hdone\n",
            "  Created wheel for pyclustering: filename=pyclustering-0.10.1.2-py3-none-any.whl size=2395122 sha256=12e560c99367d7e28cb3ec62507420c94523a159bed317a0466c040ba18e4cea\n",
            "  Stored in directory: /root/.cache/pip/wheels/ea/87/6b/1e0568b5ba9dc6518a25338bae90bd8392f35206bb90bb10f1\n",
            "Successfully built pyclustering\n",
            "Installing collected packages: pyclustering\n",
            "Successfully installed pyclustering-0.10.1.2\n"
          ]
        }
      ],
      "source": [
        "pip install pyclustering"
      ]
    },
    {
      "cell_type": "code",
      "source": [
        "from google.colab import drive\n",
        "drive.mount('/content/drive/')\n",
        "\n",
        "#Cette partie peut ne pas marcher prsq google permet de faire le montage sur un seul compte"
      ],
      "metadata": {
        "colab": {
          "base_uri": "https://localhost:8080/"
        },
        "id": "pFk-hVIjZ4m-",
        "outputId": "c544f1c0-d7ba-41e4-e811-af2d57d9a321",
        "collapsed": true
      },
      "execution_count": null,
      "outputs": [
        {
          "output_type": "stream",
          "name": "stdout",
          "text": [
            "Mounted at /content/drive/\n"
          ]
        }
      ]
    },
    {
      "cell_type": "code",
      "execution_count": null,
      "metadata": {
        "colab": {
          "base_uri": "https://localhost:8080/"
        },
        "id": "zPZ_tVSaTt0p",
        "outputId": "f08d22b0-9663-417c-ba17-31357bffa7ad",
        "collapsed": true
      },
      "outputs": [
        {
          "output_type": "stream",
          "name": "stdout",
          "text": [
            "\r0% [Working]\r            \rGet:1 https://cloud.r-project.org/bin/linux/ubuntu bionic-cran40/ InRelease [3,626 B]\n",
            "\r0% [Connecting to archive.ubuntu.com (91.189.88.142)] [Connecting to security.u\r0% [Connecting to archive.ubuntu.com (91.189.88.142)] [Connecting to security.u\r                                                                               \rIgn:2 https://developer.download.nvidia.com/compute/cuda/repos/ubuntu1804/x86_64  InRelease\n",
            "\r0% [Connecting to archive.ubuntu.com (91.189.88.142)] [Connecting to security.u\r                                                                               \rIgn:3 https://developer.download.nvidia.com/compute/machine-learning/repos/ubuntu1804/x86_64  InRelease\n",
            "\r0% [Connecting to archive.ubuntu.com (91.189.88.142)] [Connecting to security.u\r0% [1 InRelease gpgv 3,626 B] [Connecting to archive.ubuntu.com (91.189.88.142)\r                                                                               \rGet:4 https://developer.download.nvidia.com/compute/cuda/repos/ubuntu1804/x86_64  Release [696 B]\n",
            "Hit:5 https://developer.download.nvidia.com/compute/machine-learning/repos/ubuntu1804/x86_64  Release\n",
            "Get:6 https://developer.download.nvidia.com/compute/cuda/repos/ubuntu1804/x86_64  Release.gpg [836 B]\n",
            "Get:7 http://ppa.launchpad.net/c2d4u.team/c2d4u4.0+/ubuntu bionic InRelease [15.9 kB]\n",
            "Hit:8 http://archive.ubuntu.com/ubuntu bionic InRelease\n",
            "Get:9 http://security.ubuntu.com/ubuntu bionic-security InRelease [88.7 kB]\n",
            "Get:10 http://archive.ubuntu.com/ubuntu bionic-updates InRelease [88.7 kB]\n",
            "Get:11 https://cloud.r-project.org/bin/linux/ubuntu bionic-cran40/ Packages [76.0 kB]\n",
            "Hit:13 http://ppa.launchpad.net/cran/libgit2/ubuntu bionic InRelease\n",
            "Get:14 https://developer.download.nvidia.com/compute/cuda/repos/ubuntu1804/x86_64  Packages [872 kB]\n",
            "Get:15 http://archive.ubuntu.com/ubuntu bionic-backports InRelease [74.6 kB]\n",
            "Get:16 http://ppa.launchpad.net/deadsnakes/ppa/ubuntu bionic InRelease [15.9 kB]\n",
            "Hit:17 http://ppa.launchpad.net/graphics-drivers/ppa/ubuntu bionic InRelease\n",
            "Get:18 http://security.ubuntu.com/ubuntu bionic-security/restricted amd64 Packages [738 kB]\n",
            "Get:19 http://ppa.launchpad.net/c2d4u.team/c2d4u4.0+/ubuntu bionic/main Sources [1,823 kB]\n",
            "Get:20 http://security.ubuntu.com/ubuntu bionic-security/universe amd64 Packages [1,463 kB]\n",
            "Get:21 http://security.ubuntu.com/ubuntu bionic-security/main amd64 Packages [2,516 kB]\n",
            "Get:22 http://archive.ubuntu.com/ubuntu bionic-updates/restricted amd64 Packages [771 kB]\n",
            "Get:23 http://archive.ubuntu.com/ubuntu bionic-updates/main amd64 Packages [2,954 kB]\n",
            "Get:24 http://ppa.launchpad.net/c2d4u.team/c2d4u4.0+/ubuntu bionic/main amd64 Packages [934 kB]\n",
            "Get:25 http://archive.ubuntu.com/ubuntu bionic-updates/universe amd64 Packages [2,242 kB]\n",
            "Get:26 http://ppa.launchpad.net/deadsnakes/ppa/ubuntu bionic/main amd64 Packages [45.3 kB]\n",
            "Fetched 14.7 MB in 4s (3,444 kB/s)\n",
            "Reading package lists... Done\n"
          ]
        }
      ],
      "source": [
        "!apt-get update"
      ]
    },
    {
      "cell_type": "code",
      "source": [
        "!apt-get install openjdk-8-jdk-headless -qq > /dev/null"
      ],
      "metadata": {
        "id": "3qhDP0lRt4lr"
      },
      "execution_count": null,
      "outputs": []
    },
    {
      "cell_type": "code",
      "execution_count": null,
      "metadata": {
        "id": "bUgkB48dS2Sb"
      },
      "outputs": [],
      "source": [
        "import os\n",
        "os.environ[\"JAVA_HOME\"] = \"/usr/lib/jvm/java-8-openjdk-amd64\"\n",
        "os.environ[\"SPARK_HOME\"] = \"/content/spark-3.0.0-bin-hadoop3.2\""
      ]
    },
    {
      "cell_type": "code",
      "execution_count": null,
      "metadata": {
        "id": "Ie8_v1cxUZTe"
      },
      "outputs": [],
      "source": [
        "!wget -q https://archive.apache.org/dist/spark/spark-3.0.0/spark-3.0.0-bin-hadoop3.2.tgz"
      ]
    },
    {
      "cell_type": "code",
      "execution_count": null,
      "metadata": {
        "id": "gnRCLQOcUZ-h"
      },
      "outputs": [],
      "source": [
        "!tar xf spark-3.0.0-bin-hadoop3.2.tgz"
      ]
    },
    {
      "cell_type": "code",
      "execution_count": null,
      "metadata": {
        "id": "zbs94__RR_wJ"
      },
      "outputs": [],
      "source": [
        "\n",
        "!pip install -q findspark"
      ]
    },
    {
      "cell_type": "code",
      "execution_count": null,
      "metadata": {
        "id": "L0LM0HbLSlDI"
      },
      "outputs": [],
      "source": [
        "import findspark\n",
        "findspark.init()"
      ]
    },
    {
      "cell_type": "code",
      "execution_count": null,
      "metadata": {
        "id": "gFpu-raFU628"
      },
      "outputs": [],
      "source": [
        "# Make a SparkSession\n",
        "from pyspark import SparkContext\n",
        "from pyspark.sql import SparkSession\n",
        "sc = SparkContext('local[*]')\n",
        "spark = SparkSession(sc)"
      ]
    },
    {
      "cell_type": "code",
      "execution_count": null,
      "metadata": {
        "id": "a4a37JGMVCCz"
      },
      "outputs": [],
      "source": [
        "from pyclustering.utils import read_sample\n",
        "from pyclustering.utils import timedcall\n",
        "\n",
        "from pyclustering.samples.definitions import SIMPLE_SAMPLES\n",
        "from pyclustering.samples.definitions import FCPS_SAMPLES\n",
        "\n",
        "from pyclustering.cluster import cluster_visualizer\n",
        "from pyclustering.cluster.cure import cure"
      ]
    },
    {
      "cell_type": "code",
      "execution_count": null,
      "metadata": {
        "id": "8wEGFcNSVH9-"
      },
      "outputs": [],
      "source": [
        "sample = read_sample(FCPS_SAMPLES.SAMPLE_TETRA)"
      ]
    },
    {
      "cell_type": "code",
      "execution_count": null,
      "metadata": {
        "id": "KaKSQQ5yVNtW"
      },
      "outputs": [],
      "source": [
        "dataset = spark.read.option(\"multiline\",\"true\").text('dataset.txt')"
      ]
    },
    {
      "cell_type": "code",
      "execution_count": null,
      "metadata": {
        "colab": {
          "base_uri": "https://localhost:8080/"
        },
        "id": "GQajzycKWC2n",
        "outputId": "cab844dc-0dec-4594-f37b-4f63b70cfc46",
        "collapsed": true
      },
      "outputs": [
        {
          "output_type": "stream",
          "name": "stdout",
          "text": [
            "root\n",
            " |-- value: string (nullable = true)\n",
            "\n",
            "+--------------+\n",
            "|         value|\n",
            "+--------------+\n",
            "|9.802\t10.132\t1|\n",
            "| 10.35\t9.768\t1|\n",
            "|10.098\t9.988\t1|\n",
            "|   9.73\t9.91\t1|\n",
            "| 9.754\t10.43\t1|\n",
            "| 9.836\t9.902\t1|\n",
            "|10.238\t9.866\t1|\n",
            "|  9.53\t9.862\t1|\n",
            "| 10.154\t9.82\t1|\n",
            "|9.336\t10.456\t1|\n",
            "| 9.378\t10.21\t1|\n",
            "|9.712\t10.264\t1|\n",
            "|9.638\t10.208\t1|\n",
            "| 9.518\t9.956\t1|\n",
            "| 10.236\t9.91\t1|\n",
            "|  9.4\t10.086\t1|\n",
            "|10.196\t9.746\t1|\n",
            "|10.138\t9.828\t1|\n",
            "|10.062\t10.26\t1|\n",
            "|10.394\t9.984\t1|\n",
            "+--------------+\n",
            "only showing top 20 rows\n",
            "\n"
          ]
        }
      ],
      "source": [
        "dataset.printSchema()\n",
        "dataset.show()"
      ]
    },
    {
      "cell_type": "code",
      "execution_count": null,
      "metadata": {
        "id": "shKR6NuVdfTJ"
      },
      "outputs": [],
      "source": [
        "import numpy as np\n",
        "data = []\n"
      ]
    },
    {
      "cell_type": "code",
      "execution_count": null,
      "metadata": {
        "id": "usxk7eUBWIwU",
        "colab": {
          "base_uri": "https://localhost:8080/"
        },
        "outputId": "b3b9b7f3-d38c-4302-a5c8-4335db4d000b",
        "collapsed": true
      },
      "outputs": [
        {
          "output_type": "stream",
          "name": "stdout",
          "text": [
            "[[11.25, 5.05, 1.0], [10.95, 4.7, 1.0], [9.85, 5.8, 1.0], [9.8, 5.75, 1.0], [9.15, 6.8, 1.0], [8.65, 6.6, 1.0], [8.4, 7.5, 1.0], [7.9, 7.75, 1.0], [6.95, 8.7, 1.0], [7.25, 9.75, 1.0], [7.3, 10.25, 1.0], [5.9, 10.7, 1.0], [5.85, 11.8, 1.0], [6.45, 12.05, 1.0], [5.7, 12.95, 1.0], [5.35, 13.45, 1.0], [5.4, 14.65, 1.0], [4.7, 14.85, 1.0], [5.4, 15.4, 1.0], [5.1, 16.25, 1.0], [5.75, 16.7, 1.0], [4.85, 17.65, 1.0], [5.0, 18.0, 1.0], [6.05, 18.0, 1.0], [5.7, 19.45, 1.0], [5.3, 19.55, 1.0], [5.85, 21.25, 1.0], [6.1, 21.35, 1.0], [6.55, 22.15, 1.0], [5.9, 22.8, 1.0], [7.15, 23.7, 1.0], [6.75, 24.25, 1.0], [7.95, 24.65, 1.0], [7.75, 25.3, 1.0], [8.8, 26.05, 1.0], [8.85, 26.95, 1.0], [9.35, 27.45, 1.0], [9.95, 27.1, 1.0], [11.25, 28.2, 1.0], [10.7, 28.55, 1.0], [11.95, 29.45, 1.0], [11.95, 28.65, 1.0], [13.1, 30.05, 1.0], [13.4, 29.3, 1.0], [14.7, 30.2, 1.0], [14.7, 30.6, 1.0], [16.1, 30.4, 1.0], [16.1, 31.05, 1.0], [17.55, 30.8, 1.0], [17.65, 31.75, 1.0], [18.55, 31.6, 1.0], [18.85, 30.6, 1.0], [19.85, 30.9, 1.0], [20.1, 31.3, 1.0], [21.5, 31.35, 1.0], [20.85, 30.4, 1.0], [22.95, 30.05, 1.0], [23.4, 30.3, 1.0], [24.2, 29.9, 1.0], [24.75, 30.0, 1.0], [25.55, 29.3, 1.0], [25.55, 28.45, 1.0], [26.7, 28.3, 1.0], [26.85, 28.75, 1.0], [27.6, 27.15, 1.0], [28.25, 27.4, 1.0], [29.05, 27.0, 1.0], [29.05, 26.2, 1.0], [29.45, 25.55, 1.0], [30.05, 25.55, 1.0], [30.3, 23.3, 1.0], [30.6, 23.95, 1.0], [30.9, 22.75, 1.0], [31.0, 22.3, 1.0], [30.65, 21.3, 1.0], [31.3, 20.8, 1.0], [31.85, 21.2, 1.0], [31.45, 19.3, 1.0], [32.7, 19.3, 1.0], [31.9, 17.9, 1.0], [33.05, 18.05, 1.0], [32.8, 16.6, 1.0], [32.2, 16.3, 1.0], [32.4, 15.15, 1.0], [31.8, 14.75, 1.0], [32.35, 13.25, 1.0], [31.65, 13.35, 1.0], [31.15, 12.05, 1.0], [32.0, 11.9, 1.0], [31.05, 10.3, 1.0], [31.95, 10.4, 1.0], [30.05, 9.55, 1.0], [30.5, 8.25, 1.0], [29.6, 8.25, 1.0], [29.8, 7.6, 1.0], [29.0, 7.05, 1.0], [29.0, 6.7, 1.0], [27.6, 5.95, 1.0], [28.15, 5.45, 1.0], [26.5, 4.8, 1.0], [26.4, 4.4, 1.0], [25.8, 3.65, 1.0], [25.5, 4.1, 1.0], [31.6, 16.6, 1.0], [30.7, 17.4, 1.0], [29.65, 17.95, 1.0], [29.15, 16.5, 1.0], [30.5, 15.55, 1.0], [29.95, 13.55, 3.0], [30.0, 11.85, 1.0], [28.65, 14.1, 3.0], [27.45, 10.85, 3.0], [26.4, 10.75, 3.0], [25.05, 10.1, 3.0], [26.2, 11.55, 3.0], [27.2, 13.3, 3.0], [28.3, 14.45, 3.0], [27.95, 14.65, 3.0], [27.95, 14.7, 3.0], [23.15, 11.0, 3.0], [22.9, 11.6, 3.0], [23.9, 11.6, 3.0], [24.55, 11.6, 3.0], [23.85, 12.45, 3.0], [23.35, 13.1, 3.0], [24.85, 13.2, 3.0], [25.1, 12.25, 3.0], [25.15, 12.5, 3.0], [25.65, 12.9, 3.0], [25.7, 13.5, 3.0], [26.3, 13.3, 3.0], [27.1, 14.55, 3.0], [27.15, 14.6, 3.0], [26.4, 14.35, 3.0], [26.4, 14.35, 3.0], [25.75, 14.55, 3.0], [25.75, 14.9, 3.0], [25.35, 14.65, 3.0], [23.7, 14.55, 3.0], [24.05, 14.9, 3.0], [23.65, 15.3, 3.0], [22.75, 14.5, 3.0], [22.0, 14.0, 3.0], [20.9, 12.95, 3.0], [20.3, 13.1, 3.0], [22.2, 16.45, 3.0], [22.15, 16.65, 3.0], [22.4, 15.15, 3.0], [22.15, 15.2, 3.0], [23.95, 15.95, 3.0], [24.25, 16.1, 3.0], [24.8, 16.1, 3.0], [25.15, 16.15, 3.0], [25.5, 16.7, 3.0], [25.75, 16.85, 3.0], [26.2, 16.85, 3.0], [26.25, 16.9, 3.0], [26.25, 16.35, 3.0], [26.75, 16.2, 3.0], [27.4, 16.15, 3.0], [27.6, 16.85, 3.0], [26.95, 17.2, 3.0], [26.3, 18.1, 3.0], [27.55, 17.95, 3.0], [27.7, 17.6, 3.0], [28.25, 18.25, 3.0], [28.8, 19.15, 3.0], [28.5, 19.15, 3.0], [28.1, 19.35, 3.0], [28.05, 20.3, 3.0], [27.3, 20.5, 3.0], [27.1, 21.6, 3.0], [26.75, 19.5, 3.0], [26.5, 20.0, 3.0], [25.9, 19.8, 3.0], [25.1, 19.8, 3.0], [24.75, 20.7, 3.0], [24.35, 20.55, 3.0], [23.55, 20.35, 3.0], [24.3, 19.7, 3.0], [24.9, 19.0, 3.0], [24.7, 16.8, 3.0], [24.35, 16.8, 3.0], [24.4, 17.15, 3.0], [24.9, 17.3, 3.0], [24.35, 17.7, 3.0], [24.95, 17.8, 3.0], [24.95, 18.05, 3.0], [24.4, 18.35, 3.0], [23.65, 18.6, 3.0], [22.85, 18.9, 3.0], [22.4, 20.65, 3.0], [22.5, 17.8, 3.0], [22.45, 18.25, 3.0], [21.6, 17.7, 3.0], [21.35, 18.05, 3.0], [21.3, 18.25, 3.0], [19.95, 19.8, 3.0], [20.45, 20.45, 3.0], [20.35, 16.95, 3.0], [19.7, 17.45, 3.0], [19.35, 17.45, 3.0], [12.45, 9.15, 2.0], [10.1, 10.05, 2.0], [11.75, 12.2, 2.0], [9.55, 12.4, 2.0], [8.65, 13.35, 2.0], [7.75, 13.55, 2.0], [8.55, 15.15, 2.0], [8.05, 15.9, 2.0], [8.45, 15.9, 2.0], [8.6, 16.85, 2.0], [9.0, 17.05, 2.0], [9.0, 16.3, 2.0], [9.35, 16.3, 2.0], [9.55, 15.3, 2.0], [9.65, 14.85, 2.0], [10.15, 15.05, 2.0], [10.05, 15.6, 2.0], [10.4, 16.0, 2.0], [10.65, 16.0, 2.0], [10.9, 15.95, 2.0], [10.7, 15.35, 2.0], [11.35, 15.05, 2.0], [11.15, 14.75, 2.0], [11.05, 14.6, 2.0], [11.15, 14.2, 2.0], [11.1, 13.6, 2.0], [12.5, 13.0, 2.0], [13.3, 12.45, 2.0], [13.5, 12.4, 2.0], [13.95, 11.75, 2.0], [14.4, 12.2, 2.0], [15.4, 12.2, 2.0], [15.25, 12.45, 2.0], [14.6, 12.75, 2.0], [14.1, 13.05, 2.0], [14.2, 13.25, 2.0], [14.75, 13.45, 2.0], [13.15, 13.4, 2.0], [13.05, 13.7, 2.0], [12.65, 13.65, 2.0], [15.45, 13.75, 2.0], [14.65, 14.2, 2.0], [13.75, 14.05, 2.0], [13.75, 14.5, 2.0], [12.95, 14.8, 2.0], [13.2, 14.9, 2.0], [13.25, 15.5, 2.0], [12.1, 15.35, 2.0], [12.15, 15.5, 2.0], [11.25, 16.4, 2.0], [12.7, 15.6, 2.0], [12.5, 16.15, 2.0], [12.7, 16.6, 2.0], [12.15, 16.2, 2.0], [11.95, 16.5, 2.0], [11.45, 16.8, 2.0], [11.05, 17.2, 2.0], [11.3, 17.6, 2.0], [11.65, 17.6, 2.0], [11.25, 18.25, 2.0], [11.05, 18.45, 2.0], [11.05, 18.55, 2.0], [10.55, 18.55, 2.0], [10.8, 19.2, 2.0], [7.45, 19.0, 1.0], [10.05, 20.1, 2.0], [9.95, 20.5, 2.0], [10.65, 20.45, 2.0], [10.3, 22.75, 2.0], [11.7, 19.6, 2.0], [12.2, 19.65, 2.0], [13.2, 20.1, 2.0], [13.55, 20.05, 2.0], [14.15, 20.05, 2.0], [14.25, 21.5, 2.0], [13.25, 21.4, 2.0], [12.85, 18.1, 2.0], [13.75, 18.3, 2.0], [14.2, 18.35, 2.0], [14.25, 18.8, 2.0], [13.75, 16.0, 2.0], [13.75, 16.7, 2.0], [13.75, 17.05, 2.0], [14.05, 16.8, 2.0], [14.5, 16.95, 2.0], [14.75, 16.65, 2.0], [15.25, 16.05, 2.0], [15.4, 16.2, 2.0], [15.85, 16.2, 2.0], [15.5, 15.55, 2.0], [15.0, 14.95, 2.0], [16.6, 16.15, 2.0], [17.9, 15.6, 2.0], [17.5, 18.05, 2.0], [16.65, 17.5, 2.0], [15.45, 17.3, 2.0], [15.45, 17.8, 2.0], [15.7, 18.4, 2.0], [9.802, 10.132, 1.0], [10.35, 9.768, 1.0], [10.098, 9.988, 1.0], [9.73, 9.91, 1.0], [9.754, 10.43, 1.0], [9.836, 9.902, 1.0], [10.238, 9.866, 1.0], [9.53, 9.862, 1.0], [10.154, 9.82, 1.0], [9.336, 10.456, 1.0], [9.378, 10.21, 1.0], [9.712, 10.264, 1.0], [9.638, 10.208, 1.0], [9.518, 9.956, 1.0], [10.236, 9.91, 1.0], [9.4, 10.086, 1.0], [10.196, 9.746, 1.0], [10.138, 9.828, 1.0], [10.062, 10.26, 1.0], [10.394, 9.984, 1.0], [10.284, 10.348, 1.0], [9.706, 9.978, 1.0], [9.906, 10.588, 1.0], [10.356, 9.198, 1.0], [9.954, 9.704, 1.0], [9.796, 10.378, 1.0], [10.386, 10.608, 1.0], [10.41, 9.912, 1.0], [10.172, 10.598, 1.0], [10.286, 9.712, 1.0], [9.932, 10.234, 1.0], [10.298, 9.948, 1.0], [10.352, 9.932, 1.0], [9.848, 10.328, 1.0], [10.514, 10.498, 1.0], [9.944, 9.934, 1.0], [9.92, 10.022, 1.0], [9.908, 10.606, 1.0], [10.182, 9.99, 1.0], [10.256, 9.25, 1.0], [12.04, 10.028, 2.0], [12.082, 10.044, 2.0], [12.4, 10.156, 2.0], [11.988, 9.926, 2.0], [12.34, 9.918, 2.0], [12.228, 9.978, 2.0], [12.348, 10.488, 2.0], [12.044, 9.358, 2.0], [11.736, 10.122, 2.0], [12.35, 9.798, 2.0], [11.246, 10.122, 2.0], [12.276, 10.99, 2.0], [12.374, 10.018, 2.0], [12.53, 10.0, 2.0], [12.27, 9.792, 2.0], [12.364, 10.176, 2.0], [12.458, 10.18, 2.0], [11.952, 9.682, 2.0], [11.772, 9.924, 2.0], [11.502, 10.008, 2.0], [12.134, 9.482, 2.0], [11.628, 10.286, 2.0], [12.064, 9.616, 2.0], [11.906, 9.82, 2.0], [11.736, 10.29, 2.0], [12.114, 10.904, 2.0], [11.59, 9.712, 2.0], [12.648, 9.814, 2.0], [12.164, 11.018, 2.0], [12.22, 9.796, 2.0], [11.846, 9.634, 2.0], [11.808, 10.058, 2.0], [12.096, 9.846, 2.0], [11.594, 10.078, 2.0], [12.252, 9.938, 2.0], [11.998, 9.676, 2.0], [11.894, 10.012, 2.0], [12.274, 9.936, 2.0], [12.176, 10.364, 2.0], [12.104, 10.388, 2.0], [11.372, 11.466, 3.0], [10.94, 11.482, 3.0], [11.084, 11.554, 3.0], [11.232, 11.374, 3.0], [11.22, 11.64, 3.0], [10.962, 11.75, 3.0], [11.014, 11.746, 3.0], [11.524, 10.982, 3.0], [11.012, 11.364, 3.0], [11.2, 11.062, 3.0], [11.626, 11.894, 3.0], [11.23, 11.728, 3.0], [11.144, 11.91, 3.0], [11.106, 11.868, 3.0], [11.53, 11.918, 3.0], [11.21, 11.114, 3.0], [10.746, 11.702, 3.0], [11.154, 11.692, 3.0], [11.412, 11.924, 3.0], [10.948, 11.532, 3.0], [10.988, 12.298, 3.0], [10.96, 11.392, 3.0], [11.656, 11.346, 3.0], [11.178, 12.062, 3.0], [11.368, 11.56, 3.0], [11.264, 11.724, 3.0], [11.554, 11.576, 3.0], [10.974, 11.114, 3.0], [11.12, 11.634, 3.0], [11.51, 12.052, 3.0], [10.95, 11.402, 3.0], [11.864, 12.406, 3.0], [11.198, 10.854, 3.0], [11.65, 11.496, 3.0], [11.248, 11.722, 3.0], [11.602, 11.888, 3.0], [11.424, 11.454, 3.0], [11.312, 11.718, 3.0], [10.736, 11.68, 3.0], [11.56, 11.798, 3.0], [10.028, 12.268, 4.0], [9.282, 11.976, 4.0], [9.178, 11.53, 4.0], [9.954, 12.398, 4.0], [9.622, 11.558, 4.0], [9.914, 11.844, 4.0], [9.07, 11.092, 4.0], [10.578, 11.354, 4.0], [9.582, 12.14, 4.0], [9.622, 11.528, 4.0], [9.35, 11.71, 4.0], [10.234, 11.974, 4.0], [8.986, 12.31, 4.0], [9.438, 12.11, 4.0], [9.592, 12.012, 4.0], [9.666, 11.88, 4.0], [9.364, 12.012, 4.0], [9.71, 11.772, 4.0], [9.992, 11.836, 4.0], [9.916, 12.028, 4.0], [9.382, 12.226, 4.0], [9.808, 12.23, 4.0], [9.272, 12.152, 4.0], [9.392, 11.18, 4.0], [9.28, 11.976, 4.0], [9.848, 11.632, 4.0], [9.322, 11.514, 4.0], [9.718, 11.95, 4.0], [9.12, 11.76, 4.0], [8.978, 12.37, 4.0], [10.072, 12.202, 4.0], [9.966, 11.822, 4.0], [9.506, 11.648, 4.0], [9.702, 11.536, 4.0], [9.45, 11.96, 4.0], [9.916, 11.962, 4.0], [9.96, 11.538, 4.0], [9.014, 11.744, 4.0], [9.024, 11.846, 4.0], [10.296, 11.61, 4.0], [7.87, 10.838, 5.0], [8.164, 10.534, 5.0], [8.214, 10.62, 5.0], [8.166, 10.698, 5.0], [8.05, 10.746, 5.0], [7.978, 11.13, 5.0], [8.08, 10.992, 5.0], [8.472, 11.082, 5.0], [8.494, 10.584, 5.0], [8.354, 10.38, 5.0], [8.096, 10.714, 5.0], [7.882, 10.832, 5.0], [7.908, 11.346, 5.0], [7.814, 10.872, 5.0], [8.28, 10.104, 5.0], [8.082, 10.676, 5.0], [8.068, 10.118, 5.0], [8.116, 10.698, 5.0], [8.042, 10.79, 5.0], [8.096, 10.878, 5.0], [8.124, 10.932, 5.0], [8.632, 11.124, 5.0], [8.27, 10.716, 5.0], [7.622, 10.148, 5.0], [8.198, 11.398, 5.0], [8.582, 11.064, 5.0], [7.942, 11.076, 5.0], [8.004, 10.574, 5.0], [8.504, 11.378, 5.0], [8.118, 11.012, 5.0], [7.874, 11.296, 5.0], [7.668, 10.924, 5.0], [7.966, 10.72, 5.0], [7.94, 10.996, 5.0], [7.988, 11.228, 5.0], [8.164, 11.112, 5.0], [8.386, 10.772, 5.0], [8.248, 10.994, 5.0], [8.286, 10.734, 5.0], [8.224, 10.316, 5.0], [7.976, 9.578, 6.0], [7.876, 8.796, 6.0], [8.172, 9.01, 6.0], [8.068, 9.202, 6.0], [8.416, 8.654, 6.0], [8.71, 8.458, 6.0], [8.056, 8.434, 6.0], [7.304, 9.266, 6.0], [8.118, 8.608, 6.0], [7.616, 9.446, 6.0], [8.092, 8.956, 6.0], [8.368, 8.968, 6.0], [8.022, 9.334, 6.0], [8.32, 9.062, 6.0], [7.832, 8.952, 6.0], [7.704, 8.672, 6.0], [8.236, 9.108, 6.0], [8.37, 8.904, 6.0], [8.352, 8.896, 6.0], [8.046, 9.228, 6.0], [7.71, 9.538, 6.0], [8.534, 8.55, 6.0], [7.996, 9.172, 6.0], [8.046, 9.204, 6.0], [8.622, 9.174, 6.0], [7.776, 8.898, 6.0], [8.226, 9.038, 6.0], [7.904, 9.194, 6.0], [7.874, 8.856, 6.0], [7.992, 8.952, 6.0], [8.262, 9.468, 6.0], [8.088, 9.294, 6.0], [8.034, 9.792, 6.0], [8.352, 9.016, 6.0], [7.85, 9.334, 6.0], [8.404, 9.366, 6.0], [7.892, 8.808, 6.0], [8.202, 9.232, 6.0], [7.668, 9.026, 6.0], [8.242, 9.308, 6.0], [9.432, 8.61, 7.0], [10.066, 8.19, 7.0], [9.146, 8.044, 7.0], [9.662, 7.866, 7.0], [9.6, 7.874, 7.0], [8.618, 8.552, 7.0], [9.334, 7.658, 7.0], [9.424, 7.83, 7.0], [8.892, 8.166, 7.0], [9.386, 7.746, 7.0], [9.878, 8.054, 7.0], [9.558, 7.948, 7.0], [9.222, 8.002, 7.0], [9.52, 8.282, 7.0], [9.76, 7.932, 7.0], [9.568, 8.052, 7.0], [9.736, 7.552, 7.0], [9.584, 8.478, 7.0], [9.358, 8.242, 7.0], [9.404, 7.79, 7.0], [9.458, 8.54, 7.0], [9.482, 7.766, 7.0], [8.844, 8.024, 7.0], [9.29, 8.472, 7.0], [9.274, 7.566, 7.0], [9.11, 8.014, 7.0], [9.542, 7.688, 7.0], [9.432, 8.122, 7.0], [9.786, 8.066, 7.0], [9.382, 7.664, 7.0], [9.404, 8.228, 7.0], [9.146, 8.158, 7.0], [9.622, 8.004, 7.0], [10.286, 7.892, 7.0], [9.43, 7.676, 7.0], [9.44, 8.058, 7.0], [9.788, 7.684, 7.0], [9.586, 7.91, 7.0], [9.694, 7.448, 7.0], [9.576, 7.866, 7.0], [11.442, 8.688, 8.0], [11.466, 8.558, 8.0], [10.674, 8.936, 8.0], [11.23, 8.126, 8.0], [11.614, 8.588, 8.0], [11.59, 8.496, 8.0], [11.536, 7.586, 8.0], [11.638, 8.266, 8.0], [11.16, 8.43, 8.0], [10.904, 8.532, 8.0], [11.284, 8.742, 8.0], [11.25, 8.192, 8.0], [10.84, 8.218, 8.0], [11.798, 8.836, 8.0], [11.51, 8.094, 8.0], [10.932, 7.796, 8.0], [11.404, 8.206, 8.0], [11.088, 8.326, 8.0], [11.334, 8.17, 8.0], [11.272, 8.394, 8.0], [11.59, 8.408, 8.0], [11.212, 8.516, 8.0], [11.566, 8.024, 8.0], [11.246, 8.584, 8.0], [11.252, 8.566, 8.0], [10.78, 8.294, 8.0], [11.04, 8.322, 8.0], [11.198, 7.886, 8.0], [11.168, 8.262, 8.0], [11.88, 8.08, 8.0], [11.356, 8.586, 8.0], [11.182, 8.342, 8.0], [10.836, 8.664, 8.0], [11.696, 8.906, 8.0], [11.282, 8.28, 8.0], [10.718, 8.534, 8.0], [10.444, 8.684, 8.0], [11.124, 8.618, 8.0], [11.392, 8.94, 8.0], [11.212, 8.308, 8.0], [16.674, 9.638, 9.0], [16.162, 10.302, 9.0], [16.612, 10.218, 9.0], [16.1, 9.702, 9.0], [16.404, 10.072, 9.0], [15.93, 10.106, 9.0], [16.128, 9.888, 9.0], [16.41, 10.188, 9.0], [15.982, 9.92, 9.0], [16.224, 10.02, 9.0], [16.296, 9.458, 9.0], [16.586, 10.174, 9.0], [16.314, 10.716, 9.0], [16.278, 9.452, 9.0], [16.622, 9.652, 9.0], [16.22, 9.494, 9.0], [16.626, 10.162, 9.0], [16.982, 10.596, 9.0], [16.27, 10.128, 9.0], [16.202, 9.7, 9.0], [16.532, 9.776, 9.0], [17.124, 9.726, 9.0], [16.47, 9.698, 9.0], [16.004, 10.28, 9.0], [16.366, 9.796, 9.0], [16.268, 9.522, 9.0], [16.13, 9.748, 9.0], [16.67, 10.498, 9.0], [16.488, 10.542, 9.0], [16.57, 10.21, 9.0], [16.456, 10.112, 9.0], [16.482, 9.986, 9.0], [16.584, 9.754, 9.0], [16.1, 9.93, 9.0], [16.226, 9.67, 9.0], [16.448, 9.566, 9.0], [16.572, 9.624, 9.0], [16.436, 9.41, 9.0], [16.502, 9.98, 9.0], [16.418, 9.966, 9.0], [14.362, 14.644, 10.0], [14.138, 14.63, 10.0], [14.064, 15.072, 10.0], [13.692, 14.958, 10.0], [14.238, 15.296, 10.0], [13.73, 15.128, 10.0], [13.952, 14.868, 10.0], [13.986, 14.77, 10.0], [13.916, 14.996, 10.0], [13.874, 14.954, 10.0], [14.168, 15.276, 10.0], [14.278, 15.152, 10.0], [14.098, 14.9, 10.0], [13.764, 15.212, 10.0], [13.948, 14.218, 10.0], [14.13, 14.838, 10.0], [13.362, 14.932, 10.0], [13.546, 14.844, 10.0], [14.13, 15.11, 10.0], [13.816, 14.602, 10.0], [14.386, 14.686, 10.0], [13.786, 14.726, 10.0], [14.204, 14.822, 10.0], [13.856, 15.206, 10.0], [14.074, 14.384, 10.0], [13.68, 14.988, 10.0], [14.204, 14.976, 10.0], [13.388, 15.39, 10.0], [13.708, 15.048, 10.0], [14.114, 15.366, 10.0], [14.4, 15.04, 10.0], [14.194, 15.04, 10.0], [13.888, 15.436, 10.0], [13.958, 15.322, 10.0], [13.922, 14.802, 10.0], [13.652, 14.602, 10.0], [14.294, 14.996, 10.0], [13.81, 14.526, 10.0], [13.408, 15.34, 10.0], [13.834, 14.778, 10.0], [8.826, 16.474, 11.0], [8.33, 16.488, 11.0], [8.468, 16.378, 11.0], [8.904, 15.846, 11.0], [8.662, 16.354, 11.0], [8.684, 16.776, 11.0], [8.33, 16.066, 11.0], [8.904, 16.402, 11.0], [8.778, 16.486, 11.0], [8.81, 16.458, 11.0], [8.398, 16.576, 11.0], [8.542, 15.918, 11.0], [9.064, 16.456, 11.0], [9.152, 16.094, 11.0], [8.614, 15.908, 11.0], [8.566, 17.012, 11.0], [8.12, 16.11, 11.0], [8.844, 16.026, 11.0], [8.398, 16.282, 11.0], [8.808, 15.59, 11.0], [8.502, 16.166, 11.0], [8.942, 16.19, 11.0], [8.376, 16.112, 11.0], [8.518, 15.84, 11.0], [8.878, 16.004, 11.0], [8.582, 16.774, 11.0], [8.248, 16.154, 11.0], [8.588, 16.24, 11.0], [8.706, 16.374, 11.0], [8.524, 16.392, 11.0], [8.458, 16.452, 11.0], [8.83, 16.36, 11.0], [8.616, 16.112, 11.0], [8.844, 16.362, 11.0], [8.468, 15.928, 11.0], [8.62, 16.674, 11.0], [8.974, 16.53, 11.0], [8.826, 16.084, 11.0], [8.104, 15.962, 11.0], [8.386, 16.24, 11.0], [4.576, 12.878, 12.0], [4.46, 13.16, 12.0], [3.632, 12.862, 12.0], [4.238, 12.506, 12.0], [4.348, 13.268, 12.0], [3.788, 12.372, 12.0], [4.19, 12.772, 12.0], [3.86, 12.706, 12.0], [3.978, 13.308, 12.0], [4.336, 12.854, 12.0], [4.218, 13.03, 12.0], [4.25, 13.002, 12.0], [4.334, 13.06, 12.0], [4.654, 12.566, 12.0], [4.38, 12.792, 12.0], [3.968, 13.016, 12.0], [4.614, 12.526, 12.0], [3.95, 12.67, 12.0], [4.038, 12.67, 12.0], [4.426, 12.238, 12.0], [4.066, 12.514, 12.0], [4.248, 12.392, 12.0], [4.61, 12.95, 12.0], [4.328, 12.99, 12.0], [4.5, 12.522, 12.0], [4.176, 12.71, 12.0], [4.492, 12.464, 12.0], [4.134, 12.834, 12.0], [4.316, 12.764, 12.0], [4.454, 12.084, 12.0], [4.052, 12.934, 12.0], [4.26, 13.118, 12.0], [4.058, 13.718, 12.0], [4.24, 12.626, 12.0], [3.838, 12.232, 12.0], [4.128, 13.4, 12.0], [3.764, 12.38, 12.0], [4.424, 13.186, 12.0], [4.234, 12.994, 12.0], [5.13, 13.296, 12.0], [3.9, 6.742, 13.0], [3.994, 7.206, 13.0], [4.278, 7.222, 13.0], [4.172, 6.848, 13.0], [3.882, 6.894, 13.0], [3.936, 6.994, 13.0], [4.162, 6.87, 13.0], [3.762, 7.1, 13.0], [4.256, 7.612, 13.0], [4.55, 6.822, 13.0], [4.062, 6.984, 13.0], [4.026, 7.23, 13.0], [4.364, 7.184, 13.0], [4.292, 7.208, 13.0], [4.288, 6.91, 13.0], [4.018, 7.062, 13.0], [4.07, 7.104, 13.0], [4.548, 7.654, 13.0], [4.402, 7.082, 13.0], [3.692, 7.49, 13.0], [4.888, 7.194, 13.0], [4.456, 7.146, 13.0], [4.732, 7.154, 13.0], [4.088, 7.212, 13.0], [4.502, 6.928, 13.0], [3.402, 7.434, 13.0], [4.246, 6.692, 13.0], [4.166, 7.256, 13.0], [4.852, 6.83, 13.0], [4.398, 7.428, 13.0], [5.016, 7.054, 13.0], [4.25, 6.76, 13.0], [3.738, 7.082, 13.0], [4.254, 7.264, 13.0], [4.122, 7.238, 13.0], [3.878, 7.232, 13.0], [4.55, 7.29, 13.0], [4.03, 7.126, 13.0], [4.412, 7.022, 13.0], [4.276, 7.244, 13.0], [8.376, 3.788, 14.0], [8.81, 3.864, 14.0], [8.218, 3.548, 14.0], [8.374, 3.748, 14.0], [8.102, 4.3, 14.0], [8.386, 3.952, 14.0], [8.858, 3.274, 14.0], [8.884, 3.504, 14.0], [8.294, 3.38, 14.0], [8.38, 3.178, 14.0], [8.738, 4.294, 14.0], [9.1, 3.84, 14.0], [9.086, 3.6, 14.0], [8.616, 3.45, 14.0], [8.624, 3.698, 14.0], [8.632, 3.82, 14.0], [8.286, 3.704, 14.0], [8.816, 3.58, 14.0], [8.722, 3.854, 14.0], [8.298, 3.378, 14.0], [9.014, 4.034, 14.0], [8.87, 3.554, 14.0], [8.562, 3.662, 14.0], [8.6, 3.828, 14.0], [8.94, 3.836, 14.0], [8.768, 4.32, 14.0], [8.838, 3.926, 14.0], [8.288, 3.466, 14.0], [8.652, 3.782, 14.0], [8.376, 3.956, 14.0], [7.724, 3.414, 14.0], [8.374, 4.136, 14.0], [8.6, 3.712, 14.0], [9.026, 3.788, 14.0], [8.534, 3.252, 14.0], [8.874, 3.602, 14.0], [8.796, 3.888, 14.0], [8.592, 3.988, 14.0], [8.98, 4.014, 14.0], [8.562, 3.856, 14.0], [13.894, 4.16, 15.0], [14.278, 5.26, 15.0], [14.364, 4.748, 15.0], [14.108, 4.918, 15.0], [13.998, 5.498, 15.0], [14.4, 5.296, 15.0], [14.3, 5.368, 15.0], [13.958, 5.35, 15.0], [13.842, 4.984, 15.0], [13.85, 4.246, 15.0], [13.978, 5.356, 15.0], [14.366, 5.104, 15.0], [14.272, 4.94, 15.0], [14.336, 5.176, 15.0], [14.744, 5.248, 15.0], [14.306, 5.06, 15.0], [13.986, 5.05, 15.0], [14.44, 5.33, 15.0], [14.004, 4.92, 15.0], [13.332, 4.592, 15.0], [14.218, 5.544, 15.0], [14.154, 4.768, 15.0], [13.468, 4.92, 15.0], [13.67, 5.406, 15.0], [13.664, 5.016, 15.0], [14.12, 4.87, 15.0], [13.836, 4.51, 15.0], [14.204, 5.064, 15.0], [14.004, 5.228, 15.0], [13.266, 4.858, 15.0], [13.668, 5.34, 15.0], [14.528, 4.812, 15.0], [14.318, 4.592, 15.0], [14.018, 5.182, 15.0], [14.37, 4.884, 15.0], [14.198, 4.804, 15.0], [14.32, 4.59, 15.0], [13.636, 5.218, 15.0], [14.41, 4.656, 15.0], [14.02, 5.614, 15.0]]\n"
          ]
        }
      ],
      "source": [
        "for i in range(dataset.count()):\n",
        "    x = list(dataset.select('value').toPandas()['value'])[i]\n",
        "    y = x.split('\\t')\n",
        "    z = [float(i) for i in y]\n",
        "    data.append(z)\n",
        "print(data)\n",
        "\n",
        "\n",
        "\n",
        "    #data.append(list(dataset.select('value').toPandas()['value'])[i])\n",
        "    #data.map(lambda x: int(x))"
      ]
    },
    {
      "cell_type": "code",
      "execution_count": null,
      "metadata": {
        "id": "llIFWZvNWMYf"
      },
      "outputs": [],
      "source": [
        "def template_clustering(number_clusters, sample, number_represent_points=10, compression=0.2, draw=True, ccore_flag=True):\n",
        "    # sample = read_sample(path)\n",
        "    \n",
        "    cure_instance = cure(sample, number_clusters, number_represent_points, compression, ccore_flag)\n",
        "    (ticks, _) = timedcall(cure_instance.process)\n",
        "    \n",
        "    clusters = cure_instance.get_clusters()\n",
        "    representors = cure_instance.get_representors()\n",
        "    means = cure_instance.get_means()\n",
        "\n",
        "    # print(\"Sample: \", path, \"\\t\\tExecution time: \", ticks, \"\\n\")\n",
        "    print(\"Execution time: \", ticks, \"\\n\")\n",
        "    #print([len(cluster) for cluster in clusters])\n",
        "\n",
        "    if draw is True:\n",
        "        visualizer = cluster_visualizer()\n",
        "\n",
        "        visualizer.append_clusters(clusters, sample)\n",
        "\n",
        "        for cluster_index in range(len(clusters)):\n",
        "            visualizer.append_cluster_attribute(0, cluster_index, representors[cluster_index], '*', 10)\n",
        "            visualizer.append_cluster_attribute(0, cluster_index, [ means[cluster_index] ], 'o')\n",
        "\n",
        "        visualizer.show()"
      ]
    },
    {
      "cell_type": "code",
      "execution_count": null,
      "metadata": {
        "colab": {
          "base_uri": "https://localhost:8080/"
        },
        "id": "I-AQO77fWRiq",
        "outputId": "d941ca79-136a-47b9-de08-cb142a9d1a9f"
      },
      "outputs": [
        {
          "output_type": "stream",
          "name": "stdout",
          "text": [
            "<class 'list'> <class 'list'>\n"
          ]
        }
      ],
      "source": [
        "print(type(data),type(sample))"
      ]
    },
    {
      "cell_type": "code",
      "execution_count": null,
      "metadata": {
        "colab": {
          "base_uri": "https://localhost:8080/",
          "height": 283
        },
        "id": "xZbyZE8zWTQJ",
        "outputId": "07ca4182-9be9-4d85-815e-0bf7c113df97"
      },
      "outputs": [
        {
          "output_type": "stream",
          "name": "stdout",
          "text": [
            "Execution time:  0.09228823500006911 \n",
            "\n"
          ]
        },
        {
          "output_type": "display_data",
          "data": {
            "image/png": "[encoded data removed]",
            "text/plain": [
              "<Figure size 432x288 with 1 Axes>"
            ]
          },
          "metadata": {
            "needs_background": "light"
          }
        }
      ],
      "source": [
        "template_clustering(8, data)"
      ]
    }
  ],
  "metadata": {
    "colab": {
      "name": "Cure.ipynb",
      "provenance": [],
      "collapsed_sections": [],
      "include_colab_link": true
    },
    "kernelspec": {
      "display_name": "Python 3",
      "name": "python3"
    },
    "language_info": {
      "name": "python"
    }
  },
  "nbformat": 4,
  "nbformat_minor": 0
}